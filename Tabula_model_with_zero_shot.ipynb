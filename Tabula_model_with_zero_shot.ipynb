{
  "cells": [
    {
      "cell_type": "markdown",
      "metadata": {
        "id": "view-in-github",
        "colab_type": "text"
      },
      "source": [
        "<a href=\"https://colab.research.google.com/github/shahchayan9/Timegpt-Tabula9-and-Relational-Deep-Learning/blob/main/Tabula_model_with_zero_shot.ipynb\" target=\"_parent\"><img src=\"https://colab.research.google.com/assets/colab-badge.svg\" alt=\"Open In Colab\"/></a>"
      ]
    },
    {
      "cell_type": "code",
      "execution_count": null,
      "metadata": {
        "colab": {
          "base_uri": "https://localhost:8080/"
        },
        "id": "UnMIBqdWCWGb",
        "outputId": "e3ad6ec1-bc22-43ac-c378-81efe7781b77"
      },
      "outputs": [
        {
          "name": "stdout",
          "output_type": "stream",
          "text": [
            "Requirement already satisfied: transformers in /usr/local/lib/python3.10/dist-packages (4.46.2)\n",
            "Requirement already satisfied: pandas in /usr/local/lib/python3.10/dist-packages (2.2.2)\n",
            "Requirement already satisfied: torch in /usr/local/lib/python3.10/dist-packages (2.5.0+cu121)\n",
            "Requirement already satisfied: filelock in /usr/local/lib/python3.10/dist-packages (from transformers) (3.16.1)\n",
            "Requirement already satisfied: huggingface-hub<1.0,>=0.23.2 in /usr/local/lib/python3.10/dist-packages (from transformers) (0.26.2)\n",
            "Requirement already satisfied: numpy>=1.17 in /usr/local/lib/python3.10/dist-packages (from transformers) (1.26.4)\n",
            "Requirement already satisfied: packaging>=20.0 in /usr/local/lib/python3.10/dist-packages (from transformers) (24.2)\n",
            "Requirement already satisfied: pyyaml>=5.1 in /usr/local/lib/python3.10/dist-packages (from transformers) (6.0.2)\n",
            "Requirement already satisfied: regex!=2019.12.17 in /usr/local/lib/python3.10/dist-packages (from transformers) (2024.9.11)\n",
            "Requirement already satisfied: requests in /usr/local/lib/python3.10/dist-packages (from transformers) (2.32.3)\n",
            "Requirement already satisfied: safetensors>=0.4.1 in /usr/local/lib/python3.10/dist-packages (from transformers) (0.4.5)\n",
            "Requirement already satisfied: tokenizers<0.21,>=0.20 in /usr/local/lib/python3.10/dist-packages (from transformers) (0.20.3)\n",
            "Requirement already satisfied: tqdm>=4.27 in /usr/local/lib/python3.10/dist-packages (from transformers) (4.66.6)\n",
            "Requirement already satisfied: python-dateutil>=2.8.2 in /usr/local/lib/python3.10/dist-packages (from pandas) (2.8.2)\n",
            "Requirement already satisfied: pytz>=2020.1 in /usr/local/lib/python3.10/dist-packages (from pandas) (2024.2)\n",
            "Requirement already satisfied: tzdata>=2022.7 in /usr/local/lib/python3.10/dist-packages (from pandas) (2024.2)\n",
            "Requirement already satisfied: typing-extensions>=4.8.0 in /usr/local/lib/python3.10/dist-packages (from torch) (4.12.2)\n",
            "Requirement already satisfied: networkx in /usr/local/lib/python3.10/dist-packages (from torch) (3.4.2)\n",
            "Requirement already satisfied: jinja2 in /usr/local/lib/python3.10/dist-packages (from torch) (3.1.4)\n",
            "Requirement already satisfied: fsspec in /usr/local/lib/python3.10/dist-packages (from torch) (2024.10.0)\n",
            "Requirement already satisfied: sympy==1.13.1 in /usr/local/lib/python3.10/dist-packages (from torch) (1.13.1)\n",
            "Requirement already satisfied: mpmath<1.4,>=1.1.0 in /usr/local/lib/python3.10/dist-packages (from sympy==1.13.1->torch) (1.3.0)\n",
            "Requirement already satisfied: six>=1.5 in /usr/local/lib/python3.10/dist-packages (from python-dateutil>=2.8.2->pandas) (1.16.0)\n",
            "Requirement already satisfied: MarkupSafe>=2.0 in /usr/local/lib/python3.10/dist-packages (from jinja2->torch) (3.0.2)\n",
            "Requirement already satisfied: charset-normalizer<4,>=2 in /usr/local/lib/python3.10/dist-packages (from requests->transformers) (3.4.0)\n",
            "Requirement already satisfied: idna<4,>=2.5 in /usr/local/lib/python3.10/dist-packages (from requests->transformers) (3.10)\n",
            "Requirement already satisfied: urllib3<3,>=1.21.1 in /usr/local/lib/python3.10/dist-packages (from requests->transformers) (2.2.3)\n",
            "Requirement already satisfied: certifi>=2017.4.17 in /usr/local/lib/python3.10/dist-packages (from requests->transformers) (2024.8.30)\n"
          ]
        }
      ],
      "source": [
        "!pip install transformers pandas torch"
      ]
    },
    {
      "cell_type": "code",
      "execution_count": null,
      "metadata": {
        "colab": {
          "base_uri": "https://localhost:8080/"
        },
        "id": "-JTHwz-jCcbW",
        "outputId": "a5245593-4461-4a10-9615-ac85f0760dbe"
      },
      "outputs": [
        {
          "name": "stdout",
          "output_type": "stream",
          "text": [
            "Original Data Sample:\n",
            "   age  sex     bi  children  sm  region     charges\n",
            "0   18    0  53.13         0   0       0   1163.4627\n",
            "1   22    0  52.58         1   1       0  44501.3982\n",
            "2   23    0  50.38         1   0       0   2438.0552\n",
            "3   58    0  49.06         0   0       0  11381.3254\n",
            "4   46    1  48.07         2   0       3   9432.9253\n",
            "\n",
            "Data with Descriptive Text:\n",
            "                                         description     charges\n",
            "0  Person with age 18.0, sex 0.0, has 0.0 childre...   1163.4627\n",
            "1  Person with age 22.0, sex 0.0, has 1.0 childre...  44501.3982\n",
            "2  Person with age 23.0, sex 0.0, has 1.0 childre...   2438.0552\n",
            "3  Person with age 58.0, sex 0.0, has 0.0 childre...  11381.3254\n",
            "4  Person with age 46.0, sex 1.0, has 2.0 childre...   9432.9253\n"
          ]
        }
      ],
      "source": [
        "import pandas as pd\n",
        "\n",
        "# Load a sample dataset or your own data\n",
        "data = pd.read_csv('Insurance_compressed.csv')\n",
        "print(\"Original Data Sample:\")\n",
        "print(data.head())\n",
        "\n",
        "# Example of converting a row to a descriptive text format (if suitable for your dataset)\n",
        "data['description'] = data.apply(lambda row: f\"Person with age {row['age']}, sex {row['sex']}, \"\n",
        "                                             f\"has {row['children']} children, smokes status {row['sm']}, \"\n",
        "                                             f\"region {row['region']}.\", axis=1)\n",
        "print(\"\\nData with Descriptive Text:\")\n",
        "print(data[['description', 'charges']].head())\n"
      ]
    },
    {
      "cell_type": "code",
      "execution_count": null,
      "metadata": {
        "colab": {
          "background_save": true
        },
        "id": "VupiCL7_CdAT",
        "outputId": "6affb701-e83e-444f-cf30-67061103347d"
      },
      "outputs": [
        {
          "name": "stdout",
          "output_type": "stream",
          "text": [
            "\n",
            "Data with Zero-shot Predictions:\n",
            "                                         description     charges  \\\n",
            "0  Person with age 18.0, sex 0.0, has 0.0 childre...   1163.4627   \n",
            "1  Person with age 22.0, sex 0.0, has 1.0 childre...  44501.3982   \n",
            "2  Person with age 23.0, sex 0.0, has 1.0 childre...   2438.0552   \n",
            "3  Person with age 58.0, sex 0.0, has 0.0 childre...  11381.3254   \n",
            "4  Person with age 46.0, sex 1.0, has 2.0 childre...   9432.9253   \n",
            "\n",
            "  charge_prediction  \n",
            "0       low charges  \n",
            "1       low charges  \n",
            "2       low charges  \n",
            "3       low charges  \n",
            "4       low charges  \n"
          ]
        }
      ],
      "source": [
        "from transformers import pipeline\n",
        "\n",
        "# Initialize a zero-shot classification pipeline\n",
        "classifier = pipeline(\"zero-shot-classification\", model=\"facebook/bart-large-mnli\")\n",
        "\n",
        "# Define candidate labels for the zero-shot task\n",
        "labels = [\"high charges\", \"low charges\"]\n",
        "\n",
        "# Perform zero-shot classification on the description column\n",
        "data['charge_prediction'] = data['description'].apply(lambda desc: classifier(desc, labels)[\"labels\"][0])\n",
        "print(\"\\nData with Zero-shot Predictions:\")\n",
        "print(data[['description', 'charges', 'charge_prediction']].head())\n"
      ]
    },
    {
      "cell_type": "code",
      "execution_count": null,
      "metadata": {
        "id": "Ni9TzUMyCnSR"
      },
      "outputs": [],
      "source": []
    }
  ],
  "metadata": {
    "colab": {
      "provenance": [],
      "authorship_tag": "ABX9TyMsEJEWzK0pnBWvL3zO5lu4",
      "include_colab_link": true
    },
    "kernelspec": {
      "display_name": "Python 3",
      "name": "python3"
    },
    "language_info": {
      "name": "python"
    }
  },
  "nbformat": 4,
  "nbformat_minor": 0
}