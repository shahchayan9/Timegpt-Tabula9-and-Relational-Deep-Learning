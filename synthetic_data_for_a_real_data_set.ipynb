{
  "nbformat": 4,
  "nbformat_minor": 0,
  "metadata": {
    "colab": {
      "provenance": [],
      "authorship_tag": "ABX9TyOIh7lbajo67dnprX5zth+v",
      "include_colab_link": true
    },
    "kernelspec": {
      "name": "python3",
      "display_name": "Python 3"
    },
    "language_info": {
      "name": "python"
    }
  },
  "cells": [
    {
      "cell_type": "markdown",
      "metadata": {
        "id": "view-in-github",
        "colab_type": "text"
      },
      "source": [
        "<a href=\"https://colab.research.google.com/github/shahchayan9/Timegpt-Tabula9-and-Relational-Deep-Learning/blob/main/synthetic_data_for_a_real_data_set.ipynb\" target=\"_parent\"><img src=\"https://colab.research.google.com/assets/colab-badge.svg\" alt=\"Open In Colab\"/></a>"
      ]
    },
    {
      "cell_type": "code",
      "execution_count": null,
      "metadata": {
        "colab": {
          "base_uri": "https://localhost:8080/"
        },
        "id": "m3P9SVdq-goX",
        "outputId": "f09f17a6-9ddc-4c90-f696-fb8c7bcbc0ef"
      },
      "outputs": [
        {
          "output_type": "stream",
          "name": "stdout",
          "text": [
            "Requirement already satisfied: scikit-learn in /usr/local/lib/python3.10/dist-packages (1.5.2)\n",
            "Requirement already satisfied: numpy>=1.19.5 in /usr/local/lib/python3.10/dist-packages (from scikit-learn) (1.26.4)\n",
            "Requirement already satisfied: scipy>=1.6.0 in /usr/local/lib/python3.10/dist-packages (from scikit-learn) (1.13.1)\n",
            "Requirement already satisfied: joblib>=1.2.0 in /usr/local/lib/python3.10/dist-packages (from scikit-learn) (1.4.2)\n",
            "Requirement already satisfied: threadpoolctl>=3.1.0 in /usr/local/lib/python3.10/dist-packages (from scikit-learn) (3.5.0)\n"
          ]
        }
      ],
      "source": [
        "# Step 1: Install Scikit-Learn if not already installed\n",
        "!pip install -U scikit-learn"
      ]
    },
    {
      "cell_type": "code",
      "source": [
        "# Step 2: Import Required Libraries and Load Your Dataset\n",
        "import pandas as pd\n",
        "from sklearn.datasets import make_regression\n",
        "import matplotlib.pyplot as plt"
      ],
      "metadata": {
        "id": "NwWtDMmpBawF"
      },
      "execution_count": null,
      "outputs": []
    },
    {
      "cell_type": "code",
      "source": [
        "# Load the dataset (replace 'sample_data.csv' with the path to your dataset)\n",
        "data = pd.read_csv('Insurance_compressed.csv')\n",
        "print(\"Original Data Sample:\")\n",
        "print(data.head())"
      ],
      "metadata": {
        "colab": {
          "base_uri": "https://localhost:8080/"
        },
        "id": "F-Dxsp7dBdVL",
        "outputId": "e491ccae-fbca-4267-b1b8-18bdb03445aa"
      },
      "execution_count": null,
      "outputs": [
        {
          "output_type": "stream",
          "name": "stdout",
          "text": [
            "Original Data Sample:\n",
            "   age  sex     bi  children  sm  region     charges\n",
            "0   18    0  53.13         0   0       0   1163.4627\n",
            "1   22    0  52.58         1   1       0  44501.3982\n",
            "2   23    0  50.38         1   0       0   2438.0552\n",
            "3   58    0  49.06         0   0       0  11381.3254\n",
            "4   46    1  48.07         2   0       3   9432.9253\n"
          ]
        }
      ]
    },
    {
      "cell_type": "code",
      "source": [
        "# Step 3: Generate Synthetic Data\n",
        "# Here we create synthetic data with a similar number of samples and features\n",
        "n_samples = len(data)\n",
        "n_features = len(data.columns) - 1  # Exclude the target column (e.g., 'charges')"
      ],
      "metadata": {
        "id": "FwfWOzM8BfSG"
      },
      "execution_count": null,
      "outputs": []
    },
    {
      "cell_type": "code",
      "source": [
        "# Generate synthetic features and a target column similar to the 'charges' column\n",
        "X, y = make_regression(n_samples=n_samples, n_features=n_features, noise=0.1)\n",
        "synthetic_data = pd.DataFrame(X, columns=data.columns[:-1])  # Using all columns except 'charges'\n",
        "synthetic_data['charges'] = y  # Assign synthetic target variable to the 'charges' column"
      ],
      "metadata": {
        "id": "KTZ1b-1dBhOi"
      },
      "execution_count": null,
      "outputs": []
    },
    {
      "cell_type": "code",
      "source": [
        "print(\"\\nSynthetic Data Sample:\")\n",
        "print(synthetic_data.head())"
      ],
      "metadata": {
        "colab": {
          "base_uri": "https://localhost:8080/"
        },
        "id": "Q0PMFy69BjDH",
        "outputId": "61730bad-6b2e-4fb1-aafe-011cbe6ce641"
      },
      "execution_count": null,
      "outputs": [
        {
          "output_type": "stream",
          "name": "stdout",
          "text": [
            "\n",
            "Synthetic Data Sample:\n",
            "        age       sex        bi  children        sm    region     charges\n",
            "0  0.393481 -1.422771 -0.734718  0.205173 -1.390285 -0.186791 -159.181428\n",
            "1 -1.363765  0.194112 -2.045399 -0.314059  1.251941  0.744302 -108.173123\n",
            "2  0.090593 -0.258201 -0.509088  1.218664 -0.438263 -0.078649   47.476592\n",
            "3 -0.226645 -0.727594 -1.093442  0.012472  0.064649 -0.748713 -142.621065\n",
            "4  0.767724 -0.125110  1.018257  1.172235 -1.210505  1.369289  184.092641\n"
          ]
        }
      ]
    },
    {
      "cell_type": "code",
      "source": [
        "# Step 4: Save Synthetic Data to CSV (optional)\n",
        "synthetic_data.to_csv('synthetic_data.csv', index=False)"
      ],
      "metadata": {
        "id": "mngbmhkiBn2P"
      },
      "execution_count": null,
      "outputs": []
    },
    {
      "cell_type": "code",
      "source": [
        "# Step 5: Visualize and Compare Distributions\n",
        "# Replace 'charges' with the target column you want to compare\n",
        "column_name = 'charges'  # Column to compare"
      ],
      "metadata": {
        "id": "BLFM6uYvBpjQ"
      },
      "execution_count": null,
      "outputs": []
    },
    {
      "cell_type": "code",
      "source": [
        "plt.figure(figsize=(12, 6))\n",
        "plt.hist(data[column_name], bins=30, alpha=0.5, label='Original Data')\n",
        "plt.hist(synthetic_data[column_name], bins=30, alpha=0.5, label='Synthetic Data')\n",
        "plt.xlabel(column_name)\n",
        "plt.ylabel('Frequency')\n",
        "plt.legend()\n",
        "plt.title(f'Comparison of Original and Synthetic Data for {column_name}')\n",
        "plt.show()"
      ],
      "metadata": {
        "colab": {
          "base_uri": "https://localhost:8080/",
          "height": 564
        },
        "id": "Oqls-uAXBrHD",
        "outputId": "bf1c3818-45d3-43d8-bc2c-0149c10b2e74"
      },
      "execution_count": null,
      "outputs": [
        {
          "output_type": "display_data",
          "data": {
            "text/plain": [
              "<Figure size 1200x600 with 1 Axes>"
            ],
            "image/png": "[encoded data removed]"
          },
          "metadata": {}
        }
      ]
    }
  ]
}